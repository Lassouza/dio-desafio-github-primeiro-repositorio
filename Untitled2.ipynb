{
  "nbformat": 4,
  "nbformat_minor": 0,
  "metadata": {
    "colab": {
      "name": "Untitled2.ipynb",
      "provenance": [],
      "toc_visible": true,
      "authorship_tag": "ABX9TyOzZDuJGixs3hD62Vn2Q0fq",
      "include_colab_link": true
    },
    "kernelspec": {
      "name": "python3",
      "display_name": "Python 3"
    },
    "language_info": {
      "name": "python"
    }
  },
  "cells": [
    {
      "cell_type": "markdown",
      "metadata": {
        "id": "view-in-github",
        "colab_type": "text"
      },
      "source": [
        "<a href=\"https://colab.research.google.com/github/Lassouza/dio-desafio-github-primeiro-repositorio/blob/main/Untitled2.ipynb\" target=\"_parent\"><img src=\"https://colab.research.google.com/assets/colab-badge.svg\" alt=\"Open In Colab\"/></a>"
      ]
    },
    {
      "cell_type": "markdown",
      "source": [
        "**# Data Sciense com Python**\n",
        "\n",
        "## Modulo 01 - Introdução ao Python \n",
        "\n",
        "\n",
        "\n"
      ],
      "metadata": {
        "id": "C4qNg1jYE5LI"
      }
    },
    {
      "cell_type": "markdown",
      "source": [
        "Python é uma Linguagem de Programação, a mais popular do mundo.\n",
        "Foi criada na Década de 90 por um Holandês\n",
        "Suas vantagens são a flexibilidade, processamento, textos, imagens e facilidade de aprendizado.\n",
        "C++ E JAVA, linguagem mais complexa.\n",
        "\n",
        "Onde programar?\n",
        "Visual studi code, jupiter e Google colab.\n",
        "Google colab - Não precisa instalar, pois é executado na nuvem do google.\n",
        "\n",
        "O que é Nootebook ? É algo como um relatório.\n",
        "mescla Dados.\n",
        "Negrito ***- no inicio e no fim.\n",
        "CTRL MM = Célula texto.\n",
        "ESC + A = Nova celula de código.\n",
        "shif+enter = leva a célula para cima.\n"
      ],
      "metadata": {
        "id": "HslSYM6iHb_R"
      }
    },
    {
      "cell_type": "markdown",
      "source": [
        "<center><IMG SRC = \"https://upload.wikimedia.org/wikipedia/commons/1/1f/Python_logo_01.svg\" width = \"500\" >"
      ],
      "metadata": {
        "id": "mrfBPJXLFZ9z"
      }
    }
  ]
}